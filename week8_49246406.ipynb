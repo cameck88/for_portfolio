{
 "cells": [
  {
   "cell_type": "markdown",
   "metadata": {
    "id": "aVBGCDt1odf6"
   },
   "source": [
    "# 第8回課題"
   ]
  },
  {
   "cell_type": "markdown",
   "metadata": {
    "id": "NiXQHWA-odf9"
   },
   "source": [
    "## 課題1\n",
    "\n",
    "https://blog.goo.ne.jp/dak-ikd/e/27c7303487d3d25439660360a1854317\n",
    "\n",
    "このサイトを参考に実装した。encodeでは、utf-8に変更したあと、base64表現に直す。decodeはその逆である。\n"
   ]
  },
  {
   "cell_type": "code",
   "execution_count": 1,
   "metadata": {
    "id": "LtoVgBBjodf9"
   },
   "outputs": [],
   "source": [
    "import base64\n",
    "\n",
    "def myencode(s):\n",
    "\n",
    "    byte_string = s.encode('utf-8')\n",
    "    base64_encoded = base64.b64encode(byte_string)\n",
    "\n",
    "    return base64_encoded.decode('utf-8')\n",
    "\n",
    "def mydecode(s):\n",
    "\n",
    "    base64_decoded = base64.b64decode(s)\n",
    "\n",
    "    return base64_decoded.decode('utf-8')\n"
   ]
  },
  {
   "cell_type": "code",
   "execution_count": 4,
   "metadata": {
    "colab": {
     "base_uri": "https://localhost:8080/"
    },
    "id": "zQUxxLApudnI",
    "outputId": "b990a186-9487-4df2-bf43-abbd65276712"
   },
   "outputs": [
    {
     "name": "stdout",
     "output_type": "stream",
     "text": [
      "44OX44Ot44Kw44Op44Of44Oz44Kw プログラミング\n"
     ]
    }
   ],
   "source": [
    "# テストケース\n",
    "print(myencode(\"プログラミング\"), mydecode('44OX44Ot44Kw44Op44Of44Oz44Kw'))"
   ]
  },
  {
   "cell_type": "markdown",
   "metadata": {
    "id": "LqCHVFbhtwPx"
   },
   "source": [
    "## 課題2\n",
    "\n",
    "二分木の作成はmake_nodeを使って行う。write_tree関数におけるjsonの保存はjson.dumpを使用する。保存したjsonをread_treeで読み込み、printして同じ木が復元できていることを確認する。\n"
   ]
  },
  {
   "cell_type": "code",
   "execution_count": 1,
   "metadata": {
    "id": "QTqG_gz1twPy"
   },
   "outputs": [],
   "source": [
    "import json\n",
    "\n",
    "def make_node(num, left=None, right=None):\n",
    "    \n",
    "    return {\"number\": num, \"left\": left, \"right\": right}\n",
    "\n",
    "def write_tree(filename, tree):\n",
    "    with open(filename, 'w') as file:\n",
    "        json.dump(tree, file)\n",
    "\n",
    "def read_tree(filename):\n",
    "    with open(filename, 'r') as file:\n",
    "        return json.load(file)\n"
   ]
  },
  {
   "cell_type": "code",
   "execution_count": 10,
   "metadata": {},
   "outputs": [
    {
     "name": "stdout",
     "output_type": "stream",
     "text": [
      "original tree:  {'number': 10, 'left': {'number': 9, 'left': {'number': 8, 'left': None, 'right': None}, 'right': {'number': 7, 'left': None, 'right': None}}, 'right': {'number': 6, 'left': {'number': 5, 'left': None, 'right': None}, 'right': {'number': 4, 'left': None, 'right': None}}}\n",
      "loaded tree:  {'number': 10, 'left': {'number': 9, 'left': {'number': 8, 'left': None, 'right': None}, 'right': {'number': 7, 'left': None, 'right': None}}, 'right': {'number': 6, 'left': {'number': 5, 'left': None, 'right': None}, 'right': {'number': 4, 'left': None, 'right': None}}}\n"
     ]
    }
   ],
   "source": [
    "root = make_node(10,\n",
    "                 make_node(9,\n",
    "                           make_node(8),\n",
    "                           make_node(7)),\n",
    "                 make_node(6,\n",
    "                           make_node(5),\n",
    "                           make_node(4)))\n",
    "\n",
    "write_tree('tree.json', root)\n",
    "\n",
    "loaded_tree = read_tree('tree.json')\n",
    "\n",
    "#テストケース\n",
    "print(\"original tree: \", root)\n",
    "print(\"loaded tree: \",loaded_tree)"
   ]
  }
 ],
 "metadata": {
  "colab": {
   "provenance": []
  },
  "kernelspec": {
   "display_name": "Python 3 (ipykernel)",
   "language": "python",
   "name": "python3"
  },
  "language_info": {
   "codemirror_mode": {
    "name": "ipython",
    "version": 3
   },
   "file_extension": ".py",
   "mimetype": "text/x-python",
   "name": "python",
   "nbconvert_exporter": "python",
   "pygments_lexer": "ipython3",
   "version": "3.10.4"
  }
 },
 "nbformat": 4,
 "nbformat_minor": 1
}
