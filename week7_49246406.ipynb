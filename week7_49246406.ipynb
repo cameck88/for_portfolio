{
 "cells": [
  {
   "cell_type": "markdown",
   "metadata": {
    "id": "aVBGCDt1odf6"
   },
   "source": [
    "# 第7回課題"
   ]
  },
  {
   "cell_type": "markdown",
   "metadata": {
    "id": "NiXQHWA-odf9"
   },
   "source": [
    "## 課題1\n",
    "\n",
    "要件に従ってclocktimerを作る。まず、コンストラクタとしてhour, minute, seccondを指定する。次に、tickメソッドを定義する。このメソッドは、一度実行されるごとにsecondを一秒進める。もし60秒に到達すればsecondは0に戻りminuteが+1され、minuteが60になればhourを+1してminuteを0に戻す。そしてhourが24になれば0にリセットされる。\n"
   ]
  },
  {
   "cell_type": "code",
   "execution_count": 57,
   "metadata": {
    "id": "LtoVgBBjodf9"
   },
   "outputs": [],
   "source": [
    "class ClockTimer:\n",
    "    def __init__(self, hour, minute, second):\n",
    "        self.hour = hour\n",
    "        self.minute = minute\n",
    "        self.second = second\n",
    "\n",
    "    def tick(self):\n",
    "        self.second += 1\n",
    "        if self.second == 60:\n",
    "            self.second = 0\n",
    "            self.minute += 1\n",
    "            if self.minute == 60:\n",
    "                self.minute = 0\n",
    "                self.hour += 1\n",
    "                if self.hour == 24:\n",
    "                    self.hour = 0\n"
   ]
  },
  {
   "cell_type": "code",
   "execution_count": 58,
   "metadata": {
    "colab": {
     "base_uri": "https://localhost:8080/"
    },
    "id": "zQUxxLApudnI",
    "outputId": "b990a186-9487-4df2-bf43-abbd65276712"
   },
   "outputs": [
    {
     "name": "stdout",
     "output_type": "stream",
     "text": [
      "22 54 14\n",
      "22 54 15\n",
      "22 55 0\n"
     ]
    }
   ],
   "source": [
    "# テストケース\n",
    "timer = ClockTimer(22, 54, 14)\n",
    "print(timer.hour, timer.minute, timer.second)\n",
    "timer.tick()\n",
    "print(timer.hour, timer.minute, timer.second)\n",
    "for _ in range(45):\n",
    "    timer.tick()\n",
    "print(timer.hour, timer.minute, timer.second) "
   ]
  },
  {
   "cell_type": "markdown",
   "metadata": {
    "id": "NGWilXzcvynK"
   },
   "source": [
    "## 課題2\n",
    "\n",
    "フィボナッチ数の計算結果をリストmemoに記録し、計算を行う前に照合する処理を実装する。\n",
    "\n",
    "コンストラクタはmemoとcounterを用意する。counterに渡すインスタンスは外部クラスCounterで定義されている。\n",
    "\n",
    "メソッドfibでは、memoに計算結果が存在する場合、それを返す。ない場合は資料で既に実装されているFibクラスのfibメソッドを参考に、再帰的な計算を行う。このとき、計算が行われる度にcounter.incrementでカウンターの数を増やし、計算回数を記録する。"
   ]
  },
  {
   "cell_type": "code",
   "execution_count": 59,
   "metadata": {
    "id": "L6MLZ9HgqEne"
   },
   "outputs": [],
   "source": [
    "class Counter:\n",
    "    def __init__(self):\n",
    "        self.__count = 0\n",
    "\n",
    "    def increment(self):\n",
    "        self.__count += 1\n",
    "\n",
    "    def count(self):\n",
    "        return self.__count\n",
    "\n",
    "class MemoFib:\n",
    "    def __init__(self):\n",
    "        self.__memo = [None] * 1000\n",
    "        self.__counter = Counter()\n",
    "\n",
    "    def fib(self, n):\n",
    "        if n < 2:\n",
    "            if self.__memo[n] is None:\n",
    "                self.__counter.increment()\n",
    "                self.__memo[n] = n\n",
    "            return self.__memo[n]\n",
    "        \n",
    "        if self.__memo[n] is not None:\n",
    "            return self.__memo[n]\n",
    "        \n",
    "        self.__counter.increment()\n",
    "        result = self.fib(n - 1) + self.fib(n - 2)\n",
    "        self.__memo[n] = result\n",
    "        return result\n",
    "\n",
    "    def count(self):\n",
    "        return self.__counter.count()"
   ]
  },
  {
   "cell_type": "code",
   "execution_count": 60,
   "metadata": {
    "colab": {
     "base_uri": "https://localhost:8080/",
     "height": 452
    },
    "id": "Dw4df6uNvynN",
    "outputId": "096f0ab3-4353-4950-cd8d-84dff306be81"
   },
   "outputs": [
    {
     "name": "stdout",
     "output_type": "stream",
     "text": [
      "55\n",
      "11\n",
      "6765\n",
      "21\n",
      "6765\n",
      "21\n"
     ]
    }
   ],
   "source": [
    "# テストケース\n",
    "m = MemoFib()\n",
    "print(m.fib(10)) \n",
    "print(m.count())\n",
    "print(m.fib(20)) \n",
    "print(m.count())  \n",
    "print(m.fib(20))  \n",
    "print(m.count())  "
   ]
  },
  {
   "cell_type": "markdown",
   "metadata": {
    "id": "LqCHVFbhtwPx"
   },
   "source": [
    "## 課題3\n",
    "\n",
    "資料の実装を追いかけていく。まず、協力戦略と裏切り戦略を01で定義する。valid_actionはこれ以外の戦略に対してFalseを返す。Rewardは7.2.1で定義された状況から抽出されている。\n",
    "\n",
    "次にCooperatePlayer, DefectPlayer, RandomPlayerクラスを定義する。いずれのクラスも自身の名前を返すnameメソッドと行動方針を返すplayメソッドを持つ。\n",
    "\n",
    "そして彼らを戦わせるためにplay_one_gameを定義する。引数にプレイヤーA, Bのインスタンスをとり、それぞれのplayメソッドで行動を決定したあと、valid_actionを経てそれぞれのRewardを決定する。あとはその内容をprintして結果を戻り値にする。\n",
    "\n",
    "次にこれを繰り返すplay_games関数を作る。\n",
    "このために、前回相手が選んだ選択肢に応じて、プレイヤーに次の行動を決めさせるメソッドupdateを各プレイヤークラスに作る必要がある。ただし、この三種類のプレイヤーの行動は前回の行動に依存しないので、pass以外の処理はない。\n",
    "各プレイヤーにupdateメソッドを作ってもいいが、動作が共通しているなら、親としてPlyaerクラスを作り、そこから継承して各プレイヤークラスを作ると簡便である。親クラスのメソッドは子クラスにも継承されるので、子クラス内で再定義されない限り、それを再利用することができる。\n",
    "\n",
    "ここまでを踏まえて、新しいプレイヤーTitForTatPlayerを作っていく。これは基本的に協調し、相手が裏切ったらこちらも裏切るプレイヤーである。これまでの各Playerクラスと同様に、Playerクラスを継承し、name, play, updateを再定義する。nameはクラス名のままでよく、playはクラス内で定義されるlast_opponent_actionを返す。これはinit関数により実行時に初期化される。updateは、相手の選んだ戦略を受け取り、それと同じものを返す。\n"
   ]
  },
  {
   "cell_type": "code",
   "execution_count": 66,
   "metadata": {
    "id": "QTqG_gz1twPy"
   },
   "outputs": [],
   "source": [
    "import random\n",
    "\n",
    "Cooperate = 0\n",
    "Defect = 1\n",
    "\n",
    "def valid_action(act):\n",
    "    return act == Cooperate or act == Defect\n",
    "\n",
    "Reward = [\n",
    "    [2, 0],\n",
    "    [3, 1] \n",
    "]\n",
    "\n",
    "\n",
    "class CooperatePlayer(Player):\n",
    "    def name(self):\n",
    "        return \"CooperatePlayer\"\n",
    "\n",
    "    def play(self):\n",
    "        return Cooperate\n",
    "\n",
    "class DefectPlayer(Player):\n",
    "    def name(self):\n",
    "        return \"DefectPlayer\"\n",
    "\n",
    "    def play(self):\n",
    "        return Defect\n",
    "\n",
    "class RandomPlayer(Player):\n",
    "    def name(self):\n",
    "        return \"RandomPlayer\"\n",
    "\n",
    "    def play(self):\n",
    "        return Cooperate if random.randrange(2) == 0 else Defect\n",
    "\n",
    "class Player:\n",
    "    def name(self):\n",
    "        pass\n",
    "\n",
    "    def play(self):\n",
    "        pass\n",
    "\n",
    "    def update(self, my_action, op_action):\n",
    "        pass\n",
    "    \n",
    "def play_games(player_a, player_b, P=1.0/8):\n",
    "    sum_scores = [0, 0] \n",
    "    history = [\"\", \"\"]\n",
    "    \n",
    "    while True:\n",
    "        act_a, reward_a, act_b, reward_b = play_one_game(player_a, player_b)\n",
    "        sum_scores[0] += reward_a\n",
    "        sum_scores[1] += reward_b\n",
    "        history[0] += str(act_a)\n",
    "        history[1] += str(act_b)\n",
    "        \n",
    "        if random.random() < P:\n",
    "            break\n",
    "    \n",
    "    print(\"Scores:\", sum_scores)\n",
    "    print(\"History:\", history)\n",
    "\n",
    "class TitForTatPlayer(Player):\n",
    "    def __init__(self):\n",
    "        self.last_opponent_action = Cooperate\n",
    "\n",
    "    def name(self):\n",
    "        return \"TitForTatPlayer\"\n",
    "\n",
    "    def play(self):\n",
    "        return self.last_opponent_action\n",
    "\n",
    "    def update(self, my_action, op_action):\n",
    "        self.last_opponent_action = op_action\n",
    "\n",
    "def play_one_game(player_a, player_b):\n",
    "    act_a = player_a.play()\n",
    "    act_b = player_b.play()\n",
    "    if not valid_action(act_a) or not valid_action(act_b):\n",
    "        raise ValueError(\"Invalid action\")\n",
    "    reward_a = Reward[act_a][act_b]\n",
    "    reward_b = Reward[act_b][act_a]\n",
    "    player_a.update(act_a, act_b)\n",
    "    player_b.update(act_b, act_a)\n",
    "    return (act_a, reward_a, act_b, reward_b)\n"
   ]
  },
  {
   "cell_type": "code",
   "execution_count": 67,
   "metadata": {},
   "outputs": [],
   "source": [
    "pc = CooperatePlayer()\n",
    "pd = DefectPlayer()\n",
    "pr = RandomPlayer()\n",
    "pt = TitForTatPlayer()"
   ]
  },
  {
   "cell_type": "code",
   "execution_count": 68,
   "metadata": {},
   "outputs": [
    {
     "name": "stdout",
     "output_type": "stream",
     "text": [
      "Scores: [0, 3]\n",
      "History: ['0', '1']\n"
     ]
    }
   ],
   "source": [
    "play_games(pc, pr)"
   ]
  },
  {
   "cell_type": "code",
   "execution_count": 69,
   "metadata": {},
   "outputs": [
    {
     "name": "stdout",
     "output_type": "stream",
     "text": [
      "(0, 0, 1, 3)\n",
      "(0, 2, 0, 2)\n",
      "(1, 3, 0, 0)\n",
      "(0, 0, 1, 3)\n"
     ]
    }
   ],
   "source": [
    "print(play_one_game(pc, pd))\n",
    "print(play_one_game(pc, pr))\n",
    "print(play_one_game(pd, pr))\n",
    "print(play_one_game(pt, pr))"
   ]
  },
  {
   "cell_type": "markdown",
   "metadata": {},
   "source": [
    "TitForTatPlayerのテストケースを作成する。全部で4パターン存在する。"
   ]
  },
  {
   "cell_type": "code",
   "execution_count": 70,
   "metadata": {},
   "outputs": [
    {
     "name": "stdout",
     "output_type": "stream",
     "text": [
      "All tests passed!\n"
     ]
    }
   ],
   "source": [
    "def test_tftplayer():\n",
    "    player = TitForTatPlayer()\n",
    "    act = player.play()\n",
    "    assert act == Cooperate, \"Error: Initial play should be Cooperate.\"\n",
    "\n",
    "    player.update(Cooperate, Cooperate)\n",
    "    act = player.play()\n",
    "    assert act == Cooperate, \"Error: Should continue to Cooperate after opponent Cooperates.\"\n",
    "    \n",
    "    player.update(Cooperate, Defect)\n",
    "    act = player.play()\n",
    "    assert act == Defect, \"Error: Should Defect after opponent Defects.\"\n",
    "    \n",
    "    player.update(Defect, Cooperate)\n",
    "    act = player.play()\n",
    "    assert act == Cooperate, \"Error: Should return to Cooperate if opponent returns to Cooperate after Defecting.\"\n",
    "    \n",
    "    player.update(Defect, Defect)\n",
    "    act = player.play()\n",
    "    assert act == Defect, \"Error: Should return to Cooperate if opponent returns to Cooperate after Defecting.\"\n",
    "    \n",
    "    print(\"All tests passed!\")\n",
    "\n",
    "test_tftplayer()"
   ]
  }
 ],
 "metadata": {
  "colab": {
   "provenance": []
  },
  "kernelspec": {
   "display_name": "Python 3 (ipykernel)",
   "language": "python",
   "name": "python3"
  },
  "language_info": {
   "codemirror_mode": {
    "name": "ipython",
    "version": 3
   },
   "file_extension": ".py",
   "mimetype": "text/x-python",
   "name": "python",
   "nbconvert_exporter": "python",
   "pygments_lexer": "ipython3",
   "version": "3.10.4"
  }
 },
 "nbformat": 4,
 "nbformat_minor": 1
}
