{
  "cells": [
    {
      "cell_type": "markdown",
      "metadata": {
        "id": "aVBGCDt1odf6"
      },
      "source": [
        "# 第2回課題"
      ]
    },
    {
      "cell_type": "markdown",
      "metadata": {
        "id": "ZqyjjElIodf8"
      },
      "source": [
        "## 課題1\n",
        "\n",
        "Falseになる条件は、以下の通りである。\n",
        "*   x+r(円の右端) が w(長方形の右端)の外にある\n",
        "*   x-r(円の左端) が 0(長方形の左側)の外にある\n",
        "*   y+r(円の上端) が h(長方形の上端)の外にある\n",
        "*   y-r(円の下端) が 0(長方形の下端)の外にある\n",
        "\n",
        "これをif文で判定して、一つでも合致すればfalse, そうでなければTrueを返すようにすれば、望んだ結果が得られる。\n",
        "\n",
        "境界を含むかどうかは問題文から読み取れないので、含めないものとした。\n",
        "\n",
        "\n",
        "\n",
        "\n"
      ]
    },
    {
      "cell_type": "code",
      "execution_count": null,
      "metadata": {
        "collapsed": true,
        "id": "LtoVgBBjodf9"
      },
      "outputs": [],
      "source": [
        "def in_rectangle(w,h,x,y,r):\n",
        "  if x+r > w or x-r < 0 or y+r > h or y-r < 0:\n",
        "    return False\n",
        "  else:\n",
        "    return True"
      ]
    },
    {
      "cell_type": "code",
      "source": [
        "# 例\n",
        "print(in_rectangle(w=10,h=100,x=5,y=5,r=2), in_rectangle(w=10,h=100,x=5,y=5,r=10))"
      ],
      "metadata": {
        "colab": {
          "base_uri": "https://localhost:8080/"
        },
        "id": "NH7IXlfIsdgI",
        "outputId": "b8aec06f-8e40-4272-8058-8b9f1650ec80"
      },
      "execution_count": null,
      "outputs": [
        {
          "output_type": "stream",
          "name": "stdout",
          "text": [
            "True False\n"
          ]
        }
      ]
    },
    {
      "cell_type": "markdown",
      "metadata": {
        "id": "NiXQHWA-odf9"
      },
      "source": [
        "## 課題2\n",
        "\n",
        "経過時間sをhoursとminutesとsecondsに分解する必要がある。\n",
        "\n",
        "hoursはs // 3600であり、minutesは(s - hours * 3600) // 60で求まる。\n",
        "\n",
        "secondsはsからこれらを差し引いたものであるから、s - hours * 3600 - 60 * minutes で求まる。\n",
        "\n",
        "これを文字列として足し合わせることで、欲しい出力が得られる。\n"
      ]
    },
    {
      "cell_type": "code",
      "execution_count": null,
      "metadata": {
        "collapsed": true,
        "id": "KWChzzQJodf-"
      },
      "outputs": [],
      "source": [
        "def watch(s):\n",
        "  hours = s // 3600\n",
        "  minutes = (s - 3600 * hours) //60\n",
        "  seconds = s -3600 * hours - 60 * minutes\n",
        "\n",
        "  return str(hours)+\":\"+str(minutes)+\":\"+str(seconds)"
      ]
    },
    {
      "cell_type": "code",
      "source": [
        "# example\n",
        "watch(46979)"
      ],
      "metadata": {
        "colab": {
          "base_uri": "https://localhost:8080/",
          "height": 35
        },
        "id": "zQUxxLApudnI",
        "outputId": "cf0eb906-d2d5-4d26-eecf-5290eb1f0d26"
      },
      "execution_count": null,
      "outputs": [
        {
          "output_type": "execute_result",
          "data": {
            "text/plain": [
              "'13:2:59'"
            ],
            "application/vnd.google.colaboratory.intrinsic+json": {
              "type": "string"
            }
          },
          "metadata": {},
          "execution_count": 15
        }
      ]
    },
    {
      "cell_type": "markdown",
      "metadata": {
        "id": "NGWilXzcvynK"
      },
      "source": [
        "## 課題3\n",
        "\n",
        "文字列はインデックスで操作することができるため、例えば先頭一文字を取得したければword[0:1]とすればよい。文字列全体の長さはlen()メソッドを使うことで取得できる。インデックスの末尾を取得したければword[-1]と指定すればよい。\n",
        "\n",
        "したがって、これらを足し合わせることで望んだ出力が得られる。\n"
      ]
    },
    {
      "cell_type": "code",
      "execution_count": null,
      "metadata": {
        "collapsed": true,
        "id": "Dw4df6uNvynN"
      },
      "outputs": [],
      "source": [
        "def abbreviate(word):\n",
        "  return word[0:1]+str(len(word) -2)+word[-1]"
      ]
    },
    {
      "cell_type": "code",
      "source": [
        "# example\n",
        "abbreviate(\"internationalization\")"
      ],
      "metadata": {
        "colab": {
          "base_uri": "https://localhost:8080/",
          "height": 35
        },
        "outputId": "6e6066e3-6dd4-4701-c2bb-6fc03312ad61",
        "id": "Oibgs3i8vynP"
      },
      "execution_count": null,
      "outputs": [
        {
          "output_type": "execute_result",
          "data": {
            "text/plain": [
              "'i18n'"
            ],
            "application/vnd.google.colaboratory.intrinsic+json": {
              "type": "string"
            }
          },
          "metadata": {},
          "execution_count": 19
        }
      ]
    },
    {
      "cell_type": "markdown",
      "metadata": {
        "id": "3bH797KNyYUR"
      },
      "source": [
        "## 課題4\n",
        "\n",
        "\n",
        "決定木の分岐を見ると、発行するケースの方が発行しないケースより少ないため、発行するケースを網羅的に条件分岐で記述し、それ以外はFalseとするのがよい。\n",
        "\n",
        "まずdt / ic < 0.2のケースを考えると、Trueになるのはdl == 1かつ ic >= 500もしくはdl == 0かつic >= 300の場合である。\n",
        "\n",
        "dt / ic が20以上28未満の場合では、dl == 0かつic >= 300の場合のみTrueとなる。\n",
        "\n",
        "これらをif文で実装し、残りは全てFalseとすれば望んだ結果が得られる。\n",
        "\n",
        "(※年収は万単位で考えている。)"
      ]
    },
    {
      "cell_type": "code",
      "execution_count": null,
      "metadata": {
        "collapsed": true,
        "id": "pAhkx2VCyYUT"
      },
      "outputs": [],
      "source": [
        "def issueCC(dt, dl, ic):\n",
        "\n",
        "  if dt / ic < 0.2:\n",
        "    if dl == 0 and ic >=300 or dl == 1 and ic >500:\n",
        "      return True\n",
        "  elif dt /ic >= 0.2 and dt/ic < 0.28:\n",
        "    if dl == 0 and ic>=300:\n",
        "      return True\n",
        "  else:\n",
        "    return False"
      ]
    },
    {
      "cell_type": "code",
      "source": [
        "# example\n",
        "issueCC(100, 0, 500)"
      ],
      "metadata": {
        "colab": {
          "base_uri": "https://localhost:8080/"
        },
        "outputId": "f61c1c78-2d05-4851-d0b1-375b3cd3bbda",
        "id": "WECjjjEzyYUT"
      },
      "execution_count": null,
      "outputs": [
        {
          "output_type": "execute_result",
          "data": {
            "text/plain": [
              "True"
            ]
          },
          "metadata": {},
          "execution_count": 32
        }
      ]
    }
  ],
  "metadata": {
    "kernelspec": {
      "display_name": "Python 3",
      "language": "python",
      "name": "python3"
    },
    "language_info": {
      "codemirror_mode": {
        "name": "ipython",
        "version": 3
      },
      "file_extension": ".py",
      "mimetype": "text/x-python",
      "name": "python",
      "nbconvert_exporter": "python",
      "pygments_lexer": "ipython3",
      "version": "3.8.2"
    },
    "colab": {
      "provenance": []
    }
  },
  "nbformat": 4,
  "nbformat_minor": 0
}