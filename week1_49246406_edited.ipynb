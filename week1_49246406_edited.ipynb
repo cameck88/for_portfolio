{
 "cells": [
  {
   "cell_type": "markdown",
   "metadata": {
    "id": "YHti8EyHXBC6"
   },
   "source": [
    "完成品"
   ]
  },
  {
   "cell_type": "code",
   "execution_count": null,
   "metadata": {
    "colab": {
     "base_uri": "https://localhost:8080/"
    },
    "id": "nBm4CnwFNr3l",
    "outputId": "621599b2-314d-49e9-858a-13427d120282"
   },
   "outputs": [
    {
     "name": "stdout",
     "output_type": "stream",
     "text": [
      "1 2 3 4 5 6 7 8 9 \n",
      "2 4 6 8 10 12 14 16 18 \n",
      "3 6 9 12 15 18 21 24 27 \n",
      "4 8 12 16 20 24 28 32 36 \n",
      "5 10 15 20 25 30 35 40 45 \n",
      "6 12 18 24 30 36 42 48 54 \n",
      "7 14 21 28 35 42 49 56 63 \n",
      "8 16 24 32 40 48 56 64 72 \n",
      "9 18 27 36 45 54 63 72 81 \n"
     ]
    }
   ],
   "source": [
    "for i in range(1, 10):\n",
    "    for j in range(1, 10):#九九を総当たりするため2重ループを組む\n",
    "        result = i * j#九九の計算\n",
    "        print(result, end=\" \") #end=\" \"と書くことで改行しない\n",
    "    print()  # 1つの段が終わったので改行する"
   ]
  },
  {
   "cell_type": "code",
   "execution_count": null,
   "metadata": {
    "colab": {
     "base_uri": "https://localhost:8080/"
    },
    "id": "PJBOqImPM618",
    "outputId": "de3be12b-16f8-453f-dd65-04fa7aacf3b2"
   },
   "outputs": [
    {
     "name": "stdout",
     "output_type": "stream",
     "text": [
      "トレーニング始め!\n",
      "腕立て\n",
      "腹筋\n",
      "腕立て\n",
      "腹筋\n",
      "(5 分休憩)\n",
      "トレーニング始め!\n",
      "腕立て\n",
      "腹筋\n",
      "腕立て\n",
      "腹筋\n",
      "(5 分休憩)\n",
      "トレーニング始め!\n",
      "腕立て\n",
      "腹筋\n",
      "腕立て\n",
      "腹筋\n",
      "(5 分休憩)\n"
     ]
    }
   ],
   "source": [
    "for _ in range(3):\n",
    "    print(\"トレーニング始め!\")#開始の一文を表示\n",
    "    for _ in range(2):#腕立て腹筋を2回セットで行う\n",
    "        print(\"腕立て\\n腹筋\")#\\nを入れると途中で改行できる\n",
    "    print(\"(5 分休憩)\")#終わりの一文を表示"
   ]
  },
  {
   "cell_type": "code",
   "execution_count": null,
   "metadata": {
    "colab": {
     "base_uri": "https://localhost:8080/"
    },
    "id": "RLQAGRJGMmKl",
    "outputId": "47f69966-7cd3-4dc8-f1df-81469121ed76"
   },
   "outputs": [
    {
     "name": "stdout",
     "output_type": "stream",
     "text": [
      "******\n",
      "*****\n",
      "****\n",
      "***\n",
      "**\n",
      "*\n"
     ]
    }
   ],
   "source": [
    "def draw_triangle(size:int):\n",
    "  for i in range(size,0, -1):#表示数を一つづつ0まで減らしていく\n",
    "      print(\"*\" * i)\n",
    "draw_triangle(6)#関数化したので引数で表示を変えられる"
   ]
  },
  {
   "cell_type": "code",
   "execution_count": 10,
   "metadata": {
    "colab": {
     "base_uri": "https://localhost:8080/"
    },
    "id": "In4ocjCd_Q1f",
    "outputId": "5a519eea-407a-4e9d-d30f-5d97f1474e48"
   },
   "outputs": [
    {
     "name": "stdout",
     "output_type": "stream",
     "text": [
      "   *\n",
      "  ***\n",
      " *****\n",
      "*******\n",
      "   *\n",
      "   *\n",
      "   *\n"
     ]
    }
   ],
   "source": [
    "def draw_tree(size: int):\n",
    "    height = size * 2 + 1\n",
    "    width = size * 2 + 1\n",
    "\n",
    "    for i in range(1, width + 1, 2):#size + 1段葉を描画する, 葉の数は2つづつ増やす\n",
    "        print(\" \" * ((width + 1 - i) // 2) + \"*\" * i)#空白を挟みつつ葉を描写, // で除算の整数部分だけを取る\n",
    "\n",
    "    # 幹の長さ\n",
    "    trunk_length = height - i // 2 -1 #高さ - 葉の段数で求める\n",
    "\n",
    "    # 幹を描画\n",
    "    for _ in range(trunk_length):\n",
    "        print(\" \" * (width // 2) + \"*\")\n",
    "\n",
    "draw_tree(3)"
   ]
  },
  {
   "cell_type": "code",
   "execution_count": 9,
   "metadata": {},
   "outputs": [
    {
     "name": "stdout",
     "output_type": "stream",
     "text": [
      "  *\n",
      " ***\n",
      "*****\n",
      "  *\n",
      "  *\n"
     ]
    }
   ],
   "source": [
    "draw_tree(2)"
   ]
  }
 ],
 "metadata": {
  "colab": {
   "provenance": [],
   "toc_visible": true
  },
  "kernelspec": {
   "display_name": "Python 3 (ipykernel)",
   "language": "python",
   "name": "python3"
  },
  "language_info": {
   "codemirror_mode": {
    "name": "ipython",
    "version": 3
   },
   "file_extension": ".py",
   "mimetype": "text/x-python",
   "name": "python",
   "nbconvert_exporter": "python",
   "pygments_lexer": "ipython3",
   "version": "3.10.4"
  }
 },
 "nbformat": 4,
 "nbformat_minor": 1
}
