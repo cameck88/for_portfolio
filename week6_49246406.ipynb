{
 "cells": [
  {
   "cell_type": "markdown",
   "metadata": {
    "id": "aVBGCDt1odf6"
   },
   "source": [
    "# 第6回課題"
   ]
  },
  {
   "cell_type": "markdown",
   "metadata": {
    "id": "NiXQHWA-odf9"
   },
   "source": [
    "## 課題1\n",
    "\n",
    "inorderでは左、自分、右の順番で木を探索する。\n",
    "\n",
    "つまり、inorder(left(tree)) ,  value(tree) ,  inorder(right(tree))の順に再帰的に辿っていけばよい。\n"
   ]
  },
  {
   "cell_type": "code",
   "execution_count": 9,
   "metadata": {
    "id": "LtoVgBBjodf9"
   },
   "outputs": [],
   "source": [
    "def make_node(num, left_node, right_node):\n",
    "    return [num, left_node, right_node]\n",
    "\n",
    "def value(tree):\n",
    "    return tree[0]\n",
    "\n",
    "def left(tree):\n",
    "    return tree[1]\n",
    "\n",
    "def right(tree):\n",
    "    return tree[2]\n",
    "\n",
    "EmptyTree = \"None\"\n",
    "\n",
    "def is_empty(tree):\n",
    "    return tree == EmptyTree\n",
    "\n",
    "def make_leaf(num):\n",
    "    return make_node(num, EmptyTree, EmptyTree)\n",
    "\n",
    "def max_value(tree):\n",
    "    if is_empty(tree):\n",
    "        return float('-inf') \n",
    "    return max(value(tree), max_value(left(tree)), max_value(right(tree)))"
   ]
  },
  {
   "cell_type": "code",
   "execution_count": 10,
   "metadata": {},
   "outputs": [
    {
     "data": {
      "text/plain": [
       "5"
      ]
     },
     "execution_count": 10,
     "metadata": {},
     "output_type": "execute_result"
    }
   ],
   "source": [
    "t0 = make_leaf(2)\n",
    "t1 = make_node(1, make_leaf(3), make_leaf(5)) \n",
    "t2 = make_node(3, t1, t0)\n",
    "value(right(left(t2))) "
   ]
  },
  {
   "cell_type": "code",
   "execution_count": 11,
   "metadata": {
    "id": "KWChzzQJodf-"
   },
   "outputs": [],
   "source": [
    "def inorder(tree):\n",
    "    if is_empty(tree):\n",
    "        return []\n",
    "    return inorder(left(tree)) + [value(tree)] + inorder(right(tree))"
   ]
  },
  {
   "cell_type": "code",
   "execution_count": 12,
   "metadata": {
    "colab": {
     "base_uri": "https://localhost:8080/"
    },
    "id": "zQUxxLApudnI",
    "outputId": "b990a186-9487-4df2-bf43-abbd65276712"
   },
   "outputs": [
    {
     "name": "stdout",
     "output_type": "stream",
     "text": [
      "[2] [3, 1, 5] [3, 1, 5, 3, 2]\n"
     ]
    }
   ],
   "source": [
    "# テストケース\n",
    "print(inorder(t0), inorder(t1), inorder(t2))"
   ]
  },
  {
   "cell_type": "markdown",
   "metadata": {
    "id": "NGWilXzcvynK"
   },
   "source": [
    "## 課題2\n",
    "\n",
    "処理の手続きは次の通りである。\n",
    "1.make_binary_search_treeに配列aを渡す\n",
    "\n",
    "2.左側の枝＜節点＜右側の枝　という大小関係を成立させるためにaを小さい順でソートする\n",
    "\n",
    "3.aの真ん中のインデックスの値, 左側の値, 右側の値に分け、それらで木を作る\n",
    "\n",
    "4.3を再帰的に行い、下の方から順に木を作り、合成して一つの大きな木にする"
   ]
  },
  {
   "cell_type": "code",
   "execution_count": 13,
   "metadata": {
    "id": "L6MLZ9HgqEne"
   },
   "outputs": [],
   "source": [
    "def make_binary_search_tree(a):\n",
    "    if not a:\n",
    "        return EmptyTree\n",
    "    a.sort()\n",
    "    mid_index = len(a) // 2\n",
    "    return make_node(a[mid_index], \n",
    "                     make_binary_search_tree(a[:mid_index]), \n",
    "                     make_binary_search_tree(a[mid_index + 1:]))"
   ]
  },
  {
   "cell_type": "code",
   "execution_count": 14,
   "metadata": {
    "colab": {
     "base_uri": "https://localhost:8080/",
     "height": 452
    },
    "id": "Dw4df6uNvynN",
    "outputId": "096f0ab3-4353-4950-cd8d-84dff306be81"
   },
   "outputs": [
    {
     "name": "stdout",
     "output_type": "stream",
     "text": [
      "[3, [1, [1, [0, 'None', 'None'], 'None'], [2, 'None', 'None']], [7, [6, [5, 'None', 'None'], 'None'], [9, 'None', 'None']]]\n",
      "[0, 1, 1, 2, 3, 5, 6, 7, 9]\n"
     ]
    }
   ],
   "source": [
    "# テストケース\n",
    "t = make_binary_search_tree([3,1,6,1,7,9,2,0,5])\n",
    "print(t) \n",
    "print(inorder(t))"
   ]
  },
  {
   "cell_type": "markdown",
   "metadata": {
    "id": "3bH797KNyYUR"
   },
   "source": [
    "## 課題3\n",
    "\n",
    " make_question_nodeは質問か回答かの状態typeと、状態として持つ文章textと、yes, noに分岐した場合の値をを辞書型で返す。\n",
    " \n",
    "question_text(qnode),　question_yes(qnode), question_no(qnode)はそのままの実装。\n",
    "\n",
    "make_answer_nodeは引数に答えの文字列をとり、Answerというtypeを持った答えのノードを返す。つまり質問から回答状態へ移動させる。\n",
    "\n",
    "answer_textにmake_answer_nodeを放り込むと、答え(text)だけ抽出させる。\n",
    "\n",
    "is_question_nodeでは質問中か回答中かをtypeから識別する。\n",
    "\n",
    "これらを作成することで、display関数を適切に動作させることができる。"
   ]
  },
  {
   "cell_type": "code",
   "execution_count": 15,
   "metadata": {
    "id": "pAhkx2VCyYUT"
   },
   "outputs": [],
   "source": [
    "def make_question_node(question, yes_branch, no_branch):\n",
    "    return {\"type\": \"question\", \"text\": question, \"yes\": yes_branch, \"no\": no_branch}\n",
    "\n",
    "def question_text(qnode):\n",
    "    return qnode[\"text\"]\n",
    "\n",
    "def question_yes(qnode):\n",
    "    return qnode[\"yes\"]\n",
    "\n",
    "def question_no(qnode):\n",
    "    return qnode[\"no\"]\n",
    "\n",
    "def make_answer_node(answer):\n",
    "    return {\"type\": \"answer\", \"text\": answer}\n",
    "\n",
    "def answer_text(anode):\n",
    "    return anode[\"text\"]\n",
    "\n",
    "def is_question_node(node):\n",
    "    return node[\"type\"] == \"question\"\n",
    "\n",
    "def display(node):\n",
    "    if is_question_node(node):\n",
    "        print(\"Q: \" + question_text(node) + \" ? [yn]\")\n",
    "        yn = input()\n",
    "        if yn.lower()[0] == \"y\":\n",
    "            display(question_yes(node))\n",
    "        else:\n",
    "            display(question_no(node))\n",
    "    else:\n",
    "        print(\"---\")\n",
    "        print(\"Answer: \" + answer_text(node))"
   ]
  },
  {
   "cell_type": "code",
   "execution_count": 16,
   "metadata": {},
   "outputs": [
    {
     "name": "stdout",
     "output_type": "stream",
     "text": [
      "All tests passed for the question tree!\n"
     ]
    }
   ],
   "source": [
    "# 関数群のテストケース\n",
    "\n",
    "root = make_question_node(\"Do you like animals?\",\n",
    "                          make_question_node(\"Do you like cats better than dogs?\",\n",
    "                                             make_answer_node(\"You are a cat person.\"),\n",
    "                                             make_answer_node(\"You are a dog person.\")),\n",
    "                          make_answer_node(\"You are not an animal lover.\"))\n",
    "\n",
    "def test_question_tree(root):\n",
    "\n",
    "    assert question_text(root) == \"Do you like animals?\"\n",
    "    assert question_text(question_yes(root)) == \"Do you like cats better than dogs?\"\n",
    "    assert question_text(question_no(root)) == \"You are not an animal lover.\"\n",
    "\n",
    "    assert answer_text(question_yes(question_yes(root))) == \"You are a cat person.\"\n",
    "    assert answer_text(question_no(question_yes(root))) == \"You are a dog person.\"\n",
    "    assert answer_text(question_no(root)) == \"You are not an animal lover.\"\n",
    "\n",
    "    assert is_question_node(root) == True\n",
    "    assert is_question_node(question_yes(root)) == True\n",
    "    assert is_question_node(question_no(root)) == False\n",
    "    assert is_question_node(question_yes(question_yes(root))) == False\n",
    "    assert is_question_node(question_no(question_yes(root))) == False\n",
    "\n",
    "    print(\"All tests passed for the question tree!\")\n",
    "    \n",
    "test_question_tree(root)"
   ]
  },
  {
   "cell_type": "code",
   "execution_count": 17,
   "metadata": {
    "colab": {
     "base_uri": "https://localhost:8080/"
    },
    "id": "hwAXSg8Ckvly",
    "outputId": "b960ceb0-8358-4dbb-baa3-0c95e52666a8"
   },
   "outputs": [
    {
     "name": "stdout",
     "output_type": "stream",
     "text": [
      "Q: Do you like animals? ? [yn]\n",
      "y\n",
      "Q: Do you like cats better than dogs? ? [yn]\n",
      "n\n",
      "---\n",
      "Answer: You are a dog person.\n"
     ]
    }
   ],
   "source": [
    "display(root)"
   ]
  },
  {
   "cell_type": "markdown",
   "metadata": {
    "id": "LqCHVFbhtwPx"
   },
   "source": [
    "## 課題4\n",
    "\n",
    "inorderの順番で葉を参照し、その中身に応じて計算を行う。\n",
    "\n",
    "木の左下から順に3つのノードを取り出し、計算された値を新しい葉に設定する。これを再帰的に行うことで望んだ結果が得られる。"
   ]
  },
  {
   "cell_type": "code",
   "execution_count": 18,
   "metadata": {
    "id": "QTqG_gz1twPy"
   },
   "outputs": [],
   "source": [
    "def make_node(value, left=None, right=None):\n",
    "    return {'value': value, 'left': left, 'right': right}\n",
    "\n",
    "def calc(tree):\n",
    "    if type(tree['value']) is int:\n",
    "        return tree['value']\n",
    "    left_val = calc(tree['left'])\n",
    "    right_val = calc(tree['right'])\n",
    "    if tree['value'] == '+':\n",
    "        return left_val + right_val\n",
    "    elif tree['value'] == '-':\n",
    "        return left_val - right_val\n",
    "    elif tree['value'] == '*':\n",
    "        return left_val * right_val\n",
    "    elif tree['value'] == '/':\n",
    "        return left_val / right_val"
   ]
  },
  {
   "cell_type": "code",
   "execution_count": 19,
   "metadata": {
    "colab": {
     "base_uri": "https://localhost:8080/"
    },
    "id": "ErxPE4stvUtZ",
    "outputId": "fe202611-fb6b-4302-e2cc-56169553d9a2"
   },
   "outputs": [
    {
     "data": {
      "text/plain": [
       "17"
      ]
     },
     "execution_count": 19,
     "metadata": {},
     "output_type": "execute_result"
    }
   ],
   "source": [
    "# テストケース\n",
    "t = make_node(\"+\", make_node(\"*\", make_leaf(3), make_leaf(5)), make_leaf(2))\n",
    "calc(t)"
   ]
  },
  {
   "cell_type": "markdown",
   "metadata": {
    "id": "HV5f3KgDMuHM"
   },
   "source": [
    "## 課題5\n",
    "\n",
    "二分木は節点と左右の枝によって表現することができる。そのため、クラスNodeを定義し、その中にvaue, left, rightをまとめて保持させる。\n",
    "\n",
    "これに伴い、各関数には次の変更を行う。\n",
    "\n",
    "make_node：辞書型ではなくクラスで定義した変数を割り当てるようにする\n",
    "\n",
    "value, left, right：引数にインスタンスを想定し、そのvaue, left, rightをそれぞれ返すようにする。\n",
    "\n",
    "make_binary_search_tree：特に変更なし。\n",
    "\n",
    "calc：引数にインスタンスを想定し、それに応じて変数の参照を修正する。\n",
    "\n",
    "これらの変更を行ったあと、関数calcが上手く動くか確かめる。"
   ]
  },
  {
   "cell_type": "code",
   "execution_count": 20,
   "metadata": {
    "id": "CVhaVYL2MuHU"
   },
   "outputs": [],
   "source": [
    "class Node:\n",
    "    def __init__(self, value, left=None, right=None):\n",
    "        self.value = value\n",
    "        self.left = left\n",
    "        self.right = right\n",
    "        \n",
    "def make_node(num, left, right):\n",
    "    return Node(num, left, right)\n",
    "\n",
    "def value(tree):\n",
    "    return tree.value\n",
    "\n",
    "def left(tree):\n",
    "    return tree.left\n",
    "\n",
    "def right(tree):\n",
    "    return tree.right\n",
    "\n",
    "def make_binary_search_tree(a):\n",
    "    if not a:\n",
    "        return None\n",
    "    a.sort()\n",
    "    mid_index = len(a) // 2\n",
    "    return make_node(a[mid_index],\n",
    "                     make_binary_search_tree(a[:mid_index]),\n",
    "                     make_binary_search_tree(a[mid_index+1:]))\n",
    "\n",
    "def calc(tree):\n",
    "    if isinstance(tree.value, int):\n",
    "        return tree.value\n",
    "    left_val = calc(tree.left)\n",
    "    right_val = calc(tree.right)\n",
    "    if tree.value == '+':\n",
    "        return left_val + right_val\n",
    "    elif tree.value == '-':\n",
    "        return left_val - right_val\n",
    "    elif tree.value == '*':\n",
    "        return left_val * right_val\n",
    "    elif tree.value == '/':\n",
    "        return left_val / right_val\n"
   ]
  },
  {
   "cell_type": "code",
   "execution_count": 22,
   "metadata": {
    "colab": {
     "base_uri": "https://localhost:8080/"
    },
    "id": "Wbx0jGEbMuHV",
    "outputId": "464f29b3-e9ff-41dc-91f2-d47c3012b1cf"
   },
   "outputs": [
    {
     "data": {
      "text/plain": [
       "17"
      ]
     },
     "execution_count": 22,
     "metadata": {},
     "output_type": "execute_result"
    }
   ],
   "source": [
    "# テストケース\n",
    "t = make_node(\"+\", make_node(\"*\", make_leaf(3), make_leaf(5)), make_leaf(2))\n",
    "calc(t)"
   ]
  },
  {
   "cell_type": "code",
   "execution_count": null,
   "metadata": {},
   "outputs": [],
   "source": []
  }
 ],
 "metadata": {
  "colab": {
   "provenance": []
  },
  "kernelspec": {
   "display_name": "Python 3 (ipykernel)",
   "language": "python",
   "name": "python3"
  },
  "language_info": {
   "codemirror_mode": {
    "name": "ipython",
    "version": 3
   },
   "file_extension": ".py",
   "mimetype": "text/x-python",
   "name": "python",
   "nbconvert_exporter": "python",
   "pygments_lexer": "ipython3",
   "version": "3.10.4"
  }
 },
 "nbformat": 4,
 "nbformat_minor": 1
}
