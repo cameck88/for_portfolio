{
 "cells": [
  {
   "cell_type": "markdown",
   "metadata": {
    "id": "aVBGCDt1odf6"
   },
   "source": [
    "# 第3回課題"
   ]
  },
  {
   "cell_type": "markdown",
   "metadata": {
    "id": "ZqyjjElIodf8"
   },
   "source": [
    "## 課題1\n",
    "\n",
    "Falseになる条件は、以下の通りである。\n",
    "*   x+r(円の右端) が w(長方形の右端)の外にある\n",
    "*   x-r(円の左端) が 0(長方形の左側)の外にある\n",
    "*   y+r(円の上端) が h(長方形の上端)の外にある\n",
    "*   y-r(円の下端) が 0(長方形の下端)の外にある\n",
    "\n",
    "これをif文で判定して、一つでも合致すればfalse, そうでなければTrueを返すようにすれば、望んだ結果が得られる。\n",
    "\n",
    "境界を含むかどうかは問題文から読み取れないので、含めないものとした。\n",
    "\n",
    "\n",
    "\n",
    "\n"
   ]
  },
  {
   "cell_type": "code",
   "execution_count": 1,
   "metadata": {
    "id": "LtoVgBBjodf9"
   },
   "outputs": [],
   "source": [
    "def in_rectangle(w,h,x,y,r):\n",
    "  if x+r > w or x-r < 0 or y+r > h or y-r < 0:\n",
    "    return False\n",
    "  else:\n",
    "    return True"
   ]
  },
  {
   "cell_type": "code",
   "execution_count": 2,
   "metadata": {
    "colab": {
     "base_uri": "https://localhost:8080/"
    },
    "id": "NH7IXlfIsdgI",
    "outputId": "cc1dcddd-264c-4ab8-91b6-27350c13ff13"
   },
   "outputs": [
    {
     "name": "stdout",
     "output_type": "stream",
     "text": [
      "Case 1: True\n",
      "Case 2: False\n",
      "Case 3: False\n",
      "Case 4: False\n",
      "Case 5: False\n",
      "Case 6: False\n"
     ]
    }
   ],
   "source": [
    "# テストケース\n",
    "# 長方形の幅w, 高さh, 円の中心座標x, y, 半径r\n",
    "cases = [\n",
    "    # (i) 円が長方形の中に完全に収まっていて交わりがない\n",
    "    (10, 8, 5, 4, 3),\n",
    "    # (ii) 外側のとても遠くにあって交わりがない\n",
    "    (10, 8, 20, 20, 3),\n",
    "    # (iii) 長方形の上辺と交わる\n",
    "    (10, 8, 5, 8, 3),\n",
    "    # (iv) 長方形の下辺と交わる\n",
    "    (10, 8, 5, 0, 3),\n",
    "    # (v) 長方形の左辺と交わる\n",
    "    (10, 8, 0, 4, 3),\n",
    "    # (vi) 長方形の右辺と交わる\n",
    "    (10, 8, 10, 4, 3)\n",
    "]\n",
    "\n",
    "for i in range(len(cases)):\n",
    "    testcase = cases[i]\n",
    "    w, h, x, y, r = testcase\n",
    "    result = in_rectangle(w, h, x, y, r)\n",
    "    print(f\"Case {i+1}: {result}\")\n"
   ]
  },
  {
   "cell_type": "markdown",
   "metadata": {
    "id": "NiXQHWA-odf9"
   },
   "source": [
    "## 課題2\n",
    "\n",
    "まず、最大値を-∞, 最小値を+∞に設定する。また、スコアを0で初期化する。\n",
    "\n",
    "次に、ループ処理によってリストaから点数を取り出し、合計を計算すると共に、条件分岐によって最大値と最小値を更新していく。\n",
    "\n",
    "最後に、記録された最大値と最小値をスコアの合計から引けば、望んだ結果が得られる。\n",
    "\n"
   ]
  },
  {
   "cell_type": "code",
   "execution_count": 3,
   "metadata": {
    "id": "KWChzzQJodf-"
   },
   "outputs": [],
   "source": [
    "def score(a):\n",
    "  max = float('-inf')\n",
    "  min = float('inf')\n",
    "  score = 0\n",
    "  for i in a:\n",
    "    score +=i\n",
    "    if i > max:\n",
    "      max = i\n",
    "    elif i < min:\n",
    "      min = i\n",
    "    #この時点で、min, maxはこれまで抽出された値の最小値と最大値\n",
    "  return score - min - max"
   ]
  },
  {
   "cell_type": "code",
   "execution_count": 4,
   "metadata": {
    "colab": {
     "base_uri": "https://localhost:8080/"
    },
    "id": "zQUxxLApudnI",
    "outputId": "ddfc6550-8255-4d80-e9e2-93473664b114"
   },
   "outputs": [
    {
     "name": "stdout",
     "output_type": "stream",
     "text": [
      "5 120\n"
     ]
    }
   ],
   "source": [
    "# テストケース\n",
    "print(score([10, 5, 1]), score([100, 150, 20, 3]))"
   ]
  },
  {
   "cell_type": "markdown",
   "metadata": {
    "id": "NGWilXzcvynK"
   },
   "source": [
    "## 課題3\n",
    "\n",
    "整数nの末桁数は、nを10で割った時の余りとして取得できる。pythonの場合、これは n % 10と書けばよい。\n",
    "\n",
    "これをtotalに加算したあと、n //= 10 と書いて使用済みの末桁を削除する。\n",
    "\n",
    "これをnの桁数分繰り返すことで、望んだ結果が得られる。\n",
    "\n"
   ]
  },
  {
   "cell_type": "code",
   "execution_count": 5,
   "metadata": {
    "id": "L6MLZ9HgqEne"
   },
   "outputs": [],
   "source": [
    "import math\n",
    "def digit_sum(n):\n",
    "    total = 0\n",
    "    digits =  math.floor(math.log10(n))+1\n",
    "    for i in range(digits):\n",
    "      total += n % 10\n",
    "      # この時点で、totalは下i桁目までの合計\n",
    "      n //= 10\n",
    "    return total"
   ]
  },
  {
   "cell_type": "code",
   "execution_count": 6,
   "metadata": {
    "colab": {
     "base_uri": "https://localhost:8080/"
    },
    "id": "Dw4df6uNvynN",
    "outputId": "64cded87-69b8-4b00-812d-55e2e664b4e3"
   },
   "outputs": [
    {
     "name": "stdout",
     "output_type": "stream",
     "text": [
      "15 21\n"
     ]
    }
   ],
   "source": [
    "# テストケース\n",
    "print(digit_sum(12345), digit_sum(123456))"
   ]
  },
  {
   "cell_type": "markdown",
   "metadata": {
    "id": "3bH797KNyYUR"
   },
   "source": [
    "## 課題4\n",
    "\n",
    "ある数iが与えられた整数 n(> 0) の約数なら、n % i =0になる。\n",
    "\n",
    "整数nの約数は最大でもnなので、1からnまでの間で繰り返し処理を行い、条件を満たすiのリストを出力すれば、望んだ結果が得られる。"
   ]
  },
  {
   "cell_type": "code",
   "execution_count": 7,
   "metadata": {
    "id": "pAhkx2VCyYUT"
   },
   "outputs": [],
   "source": [
    "def factor(n):\n",
    "  factor_list = []\n",
    "  for i in range(1, n+1):\n",
    "    if n % i == 0:\n",
    "      factor_list.append(i)\n",
    "  return factor_list"
   ]
  },
  {
   "cell_type": "code",
   "execution_count": 8,
   "metadata": {
    "colab": {
     "base_uri": "https://localhost:8080/"
    },
    "id": "WECjjjEzyYUT",
    "outputId": "b651e87b-2cd8-427e-91eb-44914924634f"
   },
   "outputs": [
    {
     "name": "stdout",
     "output_type": "stream",
     "text": [
      "[1, 2, 3, 6] [1, 2, 5, 10]\n"
     ]
    }
   ],
   "source": [
    "# example\n",
    "print(factor(6), factor(10))"
   ]
  },
  {
   "cell_type": "markdown",
   "metadata": {
    "id": "LqCHVFbhtwPx"
   },
   "source": [
    "## 課題5\n",
    "\n",
    "文字列sを入力としてその先頭4文字を切り出して考えると、aは先頭2文字、bは3から4文字である。\n",
    "\n",
    "これをs / 4回分の繰り返し処理にして、文字列sを4文字づつ処理していくと、望んだ結果が得られる。"
   ]
  },
  {
   "cell_type": "code",
   "execution_count": 9,
   "metadata": {
    "id": "QTqG_gz1twPy"
   },
   "outputs": [],
   "source": [
    "def decrypt2(s):\n",
    "    a = \"\"\n",
    "    b = \"\"\n",
    "    for i in range(int(len(s) / 4)):\n",
    "        a += s[i*4:i*4+2]\n",
    "        b += s[i*4+2:i*4+4]\n",
    "    return [a, b]"
   ]
  },
  {
   "cell_type": "code",
   "execution_count": 10,
   "metadata": {
    "colab": {
     "base_uri": "https://localhost:8080/"
    },
    "id": "94YN_WK6twPy",
    "outputId": "41836d19-e17d-4e1f-d4f8-f51fb0055d7c"
   },
   "outputs": [
    {
     "name": "stdout",
     "output_type": "stream",
     "text": [
      "['ABCD', 'EFGH'] ['tanuki', 'kitune'] ['murasamenotuyumomadahinumakinohani', 'tihayaburukamiyomokikazutatutagaha']\n"
     ]
    }
   ],
   "source": [
    "# テストケース\n",
    "print(decrypt2(\"ABEFCDGH\"), decrypt2(\"takinutukine\"), decrypt2('mutirahasayamebunorutukayumimoyoma' + 'modakihikanuzumatakitunotahaganiha') )"
   ]
  },
  {
   "cell_type": "markdown",
   "metadata": {
    "id": "UkPx7Awa0yxl"
   },
   "source": [
    "## 課題6\n",
    "\n"
   ]
  },
  {
   "cell_type": "markdown",
   "metadata": {
    "id": "tM4VC7o_CZLi"
   },
   "source": [
    "文字列からtaを取り除くためには、次の手続きが考えられる。\n",
    "\n",
    "1.文字列の特定のインデックスから連続する二文字を取り出して、taか否かを判定する\n",
    "\n",
    "2.taでなければ、そのインデックスの文字を出力に追加する。taであれば追加せず、インデックスを二つ後ろにずらして1の処理を行う\n",
    "\n",
    "この処理ではインデックスがスキップされる場合があるため、forループよりwhileループで書く方が簡素である。インデックスが与えられた文字列の最後に到達するまで処理を繰り返せば、望んだ結果が得られる。\n"
   ]
  },
  {
   "cell_type": "code",
   "execution_count": 11,
   "metadata": {
    "id": "nrQXCzWi0yx9"
   },
   "outputs": [],
   "source": [
    "def erase_ta(x):\n",
    "    result = \"\"\n",
    "    n = len(x)\n",
    "    i = 0\n",
    "    while i < n:\n",
    "        if i < n - 1 and x[i:i+2] == \"ta\":\n",
    "            i += 2\n",
    "        else:\n",
    "            result += x[i]\n",
    "            i += 1\n",
    "    return result"
   ]
  },
  {
   "cell_type": "code",
   "execution_count": 13,
   "metadata": {
    "id": "uMeaHPXS0yx-"
   },
   "outputs": [],
   "source": [
    "# テストケース\n",
    "assert erase_ta('fight') == 'fight'\n",
    "assert erase_ta('aa') == 'aa'\n",
    "assert erase_ta('at') == 'at'\n",
    "assert erase_ta('bt') == 'bt'\n",
    "assert erase_ta('tb') == 'tb'\n",
    "assert erase_ta('ta') == ''\n",
    "assert erase_ta('atack') == 'ack'\n",
    "assert erase_ta('ttaa') == 'ta'"
   ]
  }
 ],
 "metadata": {
  "colab": {
   "collapsed_sections": [
    "3bH797KNyYUR",
    "LqCHVFbhtwPx"
   ],
   "provenance": []
  },
  "kernelspec": {
   "display_name": "Python 3 (ipykernel)",
   "language": "python",
   "name": "python3"
  },
  "language_info": {
   "codemirror_mode": {
    "name": "ipython",
    "version": 3
   },
   "file_extension": ".py",
   "mimetype": "text/x-python",
   "name": "python",
   "nbconvert_exporter": "python",
   "pygments_lexer": "ipython3",
   "version": "3.10.4"
  }
 },
 "nbformat": 4,
 "nbformat_minor": 1
}
