{
 "cells": [
  {
   "cell_type": "markdown",
   "metadata": {
    "id": "aVBGCDt1odf6"
   },
   "source": [
    "# 第9回課題\n",
    "\n",
    "注：DocTestの結果は、課題3の末尾にまとめて掲載している。"
   ]
  },
  {
   "cell_type": "markdown",
   "metadata": {
    "id": "NiXQHWA-odf9"
   },
   "source": [
    "## 課題1\n",
    "\n",
    "まずBankAccountクラスの実装について述べる。\n",
    "\n",
    "最初にinit関数を用いてインスタンス作成時のパスワードと残高を初期化する。\n",
    "\n",
    "次に引き出し(withdraw)と預入(deposit)を定義する。これはパスワードの合致判定をし、口座残高を(可能であれば)加減算するだけなので説明は省く。\n",
    "\n",
    "最後に、問題のために、クラスとwithdrawに説明を書き、withdrawにはdoctest用の実行例をつける。テスト結果は課題3の末尾にあるように全て問題ない。\n"
   ]
  },
  {
   "cell_type": "code",
   "execution_count": 81,
   "metadata": {
    "id": "LtoVgBBjodf9"
   },
   "outputs": [],
   "source": [
    "class BankAccount:\n",
    "    \"\"\"\n",
    "    Attributes:\n",
    "        __balance (float): The account balance.\n",
    "        __password (str): The account password for authentication.\n",
    "\n",
    "    Methods:\n",
    "        withdraw(amount, password): Withdraws money if the password is correct and balance is sufficient.\n",
    "        deposit(amount, password): Deposits money if the password is correct.\n",
    "    \"\"\"\n",
    "\n",
    "    def __init__(self, initial_balance, password):\n",
    "        \"\"\"\n",
    "        Initializes a new BankAccount instance with a given balance and password.\n",
    "\n",
    "        Args:\n",
    "            initial_balance (float): The initial balance of the account.\n",
    "            password (str): The password for the account.\n",
    "        \"\"\"\n",
    "        self.__balance = initial_balance\n",
    "        self.__password = password\n",
    "\n",
    "    def withdraw(self, amount, password):\n",
    "        \"\"\"\n",
    "        Withdraws the money with specified amount from the argument if the password matched and sufficient funds exist.\n",
    "\n",
    "        Args:\n",
    "            amount (float): The amount of money to withdraw.\n",
    "            password (str): The password for authentication.\n",
    "\n",
    "        Returns:\n",
    "            float: The new balance after withdrawal if successful, or a string error message.\n",
    "\n",
    "        DocTest:\n",
    "        >>> account = BankAccount(1000, '0000')\n",
    "        >>> account.withdraw(500, '0000')\n",
    "        500\n",
    "        >>> account.withdraw(600, '0000')\n",
    "        'Insufficient funds'\n",
    "        >>> account.withdraw(100, '1111')\n",
    "        'Incorrect password'\n",
    "        \"\"\"\n",
    "        \n",
    "        if password == self.__password:\n",
    "            if self.__balance >= amount:\n",
    "                self.__balance -= amount\n",
    "                return self.__balance\n",
    "            else:\n",
    "                return \"Insufficient funds\"\n",
    "        else:\n",
    "            return \"Incorrect password\"\n",
    "\n",
    "    def deposit(self, amount, password):\n",
    "\n",
    "        if password == self.__password:\n",
    "            self.__balance += amount\n",
    "            return self.__balance\n",
    "        else:\n",
    "            return \"Incorrect password\"\n"
   ]
  },
  {
   "cell_type": "code",
   "execution_count": 82,
   "metadata": {
    "colab": {
     "base_uri": "https://localhost:8080/"
    },
    "id": "zQUxxLApudnI",
    "outputId": "b990a186-9487-4df2-bf43-abbd65276712"
   },
   "outputs": [
    {
     "name": "stdout",
     "output_type": "stream",
     "text": [
      "Help on class BankAccount in module __main__:\n",
      "\n",
      "class BankAccount(builtins.object)\n",
      " |  BankAccount(initial_balance, password)\n",
      " |  \n",
      " |  Attributes:\n",
      " |      __balance (float): The account balance.\n",
      " |      __password (str): The account password for authentication.\n",
      " |  \n",
      " |  Methods:\n",
      " |      withdraw(amount, password): Withdraws money if the password is correct and balance is sufficient.\n",
      " |      deposit(amount, password): Deposits money if the password is correct.\n",
      " |  \n",
      " |  Methods defined here:\n",
      " |  \n",
      " |  __init__(self, initial_balance, password)\n",
      " |      Initializes a new BankAccount instance with a given balance and password.\n",
      " |      \n",
      " |      Args:\n",
      " |          initial_balance (float): The initial balance of the account.\n",
      " |          password (str): The password for the account.\n",
      " |  \n",
      " |  deposit(self, amount, password)\n",
      " |  \n",
      " |  withdraw(self, amount, password)\n",
      " |      Withdraws the money with specified amount from the argument if the password matched and sufficient funds exist.\n",
      " |      \n",
      " |      Args:\n",
      " |          amount (float): The amount of money to withdraw.\n",
      " |          password (str): The password for authentication.\n",
      " |      \n",
      " |      Returns:\n",
      " |          float: The new balance after withdrawal if successful, or a string error message.\n",
      " |      \n",
      " |      DocTest:\n",
      " |      >>> account = BankAccount(1000, '0000')\n",
      " |      >>> account.withdraw(500, '0000')\n",
      " |      500\n",
      " |      >>> account.withdraw(600, '0000')\n",
      " |      'Insufficient funds'\n",
      " |      >>> account.withdraw(100, '1111')\n",
      " |      'Incorrect password'\n",
      " |  \n",
      " |  ----------------------------------------------------------------------\n",
      " |  Data descriptors defined here:\n",
      " |  \n",
      " |  __dict__\n",
      " |      dictionary for instance variables (if defined)\n",
      " |  \n",
      " |  __weakref__\n",
      " |      list of weak references to the object (if defined)\n",
      "\n"
     ]
    }
   ],
   "source": [
    "help(BankAccount)"
   ]
  },
  {
   "cell_type": "code",
   "execution_count": 83,
   "metadata": {},
   "outputs": [
    {
     "name": "stdout",
     "output_type": "stream",
     "text": [
      "Help on function withdraw in module __main__:\n",
      "\n",
      "withdraw(self, amount, password)\n",
      "    Withdraws the money with specified amount from the argument if the password matched and sufficient funds exist.\n",
      "    \n",
      "    Args:\n",
      "        amount (float): The amount of money to withdraw.\n",
      "        password (str): The password for authentication.\n",
      "    \n",
      "    Returns:\n",
      "        float: The new balance after withdrawal if successful, or a string error message.\n",
      "    \n",
      "    DocTest:\n",
      "    >>> account = BankAccount(1000, '0000')\n",
      "    >>> account.withdraw(500, '0000')\n",
      "    500\n",
      "    >>> account.withdraw(600, '0000')\n",
      "    'Insufficient funds'\n",
      "    >>> account.withdraw(100, '1111')\n",
      "    'Incorrect password'\n",
      "\n"
     ]
    }
   ],
   "source": [
    "help(BankAccount.withdraw)"
   ]
  },
  {
   "cell_type": "markdown",
   "metadata": {
    "id": "LqCHVFbhtwPx"
   },
   "source": [
    "## 課題2\n",
    "\n",
    "Observer, Subjectの概念は初耳だったのでメモを残しておく。\n",
    "\n",
    "Observer:時間によって変化する値を監視し、それを追随するもの。また、値を加工して表示したりするもの。\n",
    "\n",
    "Subject:Observerが監視する値を保持するもの。\n",
    "\n",
    "利点：Observer-Subjectの構成でプログラムを作ることで、「値の監視」「値の加工・表示」を切り離すことができ、お互いの再利用性が高まって嬉しい。\n",
    "\n",
    "\n"
   ]
  },
  {
   "cell_type": "markdown",
   "metadata": {},
   "source": [
    "コードの説明：\n",
    "\n",
    "Observer, Subject, ClockTimer, ConsoleClockは資料をもとに作っているため、説明は省く。\n",
    "\n",
    "問題に回答するため、ClockTimerの中にdoctestを作成した。doctestが失敗していないので、複数のobserverを作成しても問題ないことが分かる。\n"
   ]
  },
  {
   "cell_type": "code",
   "execution_count": 84,
   "metadata": {
    "id": "QTqG_gz1twPy"
   },
   "outputs": [],
   "source": [
    "import abc\n",
    "\n",
    "class Observer(abc.ABC):\n",
    "    \"\"\"Abstract observer class.\"\"\"\n",
    "    @abc.abstractmethod\n",
    "    def update(self):\n",
    "        \"\"\"Update status.\"\"\"\n",
    "        pass\n",
    "\n",
    "class Subject:\n",
    "    \"\"\"Abstract subject class to manage observers.\"\"\"\n",
    "    def __init__(self):\n",
    "        self.observers = []\n",
    "\n",
    "    def attach(self, observer):\n",
    "        \"\"\"Add observer to the list.\"\"\"\n",
    "        self.observers.append(observer)\n",
    "\n",
    "    def detach(self, observer):\n",
    "        \"\"\"Remove observer from the list.\"\"\"\n",
    "        self.observers.remove(observer)\n",
    "\n",
    "    def notify(self):\n",
    "        \"\"\"Call update() for all observers.\"\"\"\n",
    "        for observer in self.observers:\n",
    "            observer.update()\n",
    "\n",
    "class ClockTimer(Subject):\n",
    "    \"\"\"\n",
    "    Doctest:\n",
    "    \n",
    "    >>> clock_timer = ClockTimer(23, 59, 58)\n",
    "    >>> observer1 = ConsoleClock(clock_timer)\n",
    "    >>> observer2 = ConsoleClock(clock_timer)\n",
    "    >>> clock_timer.tick() \n",
    "    23:59:59\n",
    "    23:59:59\n",
    "    >>> clock_timer.tick() \n",
    "    00:00:00\n",
    "    00:00:00\n",
    "    \"\"\"\n",
    "    def __init__(self, hour, minute, second):\n",
    "        super().__init__()\n",
    "        self.hour = hour\n",
    "        self.minute = minute\n",
    "        self.second = second\n",
    "\n",
    "    def tick(self):\n",
    "        \"\"\"Advance the clock by one second and notify observers if time changes.\"\"\"\n",
    "        self.second += 1\n",
    "        if self.second == 60:\n",
    "            self.second = 0\n",
    "            self.minute += 1\n",
    "        if self.minute == 60:\n",
    "            self.minute = 0\n",
    "            self.hour += 1\n",
    "        if self.hour == 24:\n",
    "            self.hour = 0\n",
    "        self.notify()\n",
    "\n",
    "class ConsoleClock(Observer):\n",
    "    \"\"\"Display time in the console.\"\"\"\n",
    "    def __init__(self, subject):\n",
    "        \"\"\"create ConsoleClock and attach to subject\"\"\"\n",
    "        super().__init__()\n",
    "        self.subject = subject\n",
    "        self.subject.attach(self)\n",
    "\n",
    "    def clock_to_string(self, clock):\n",
    "        return \"{:02d}:{:02d}:{:02d}\".format(clock.hour, clock.minute, clock.second)\n",
    "\n",
    "    def update(self):\n",
    "        print(self.clock_to_string(self.subject))"
   ]
  },
  {
   "cell_type": "code",
   "execution_count": 85,
   "metadata": {},
   "outputs": [],
   "source": [
    "timer = ClockTimer(22, 54, 12)\n",
    "timer.tick() "
   ]
  },
  {
   "cell_type": "code",
   "execution_count": 86,
   "metadata": {},
   "outputs": [
    {
     "name": "stdout",
     "output_type": "stream",
     "text": [
      "22:54:14\n",
      "22:54:15\n"
     ]
    }
   ],
   "source": [
    "cc = ConsoleClock(timer) \n",
    "timer.tick() \n",
    "timer.tick() "
   ]
  },
  {
   "cell_type": "code",
   "execution_count": 87,
   "metadata": {},
   "outputs": [],
   "source": [
    "timer.detach(cc)\n",
    "timer.tick() "
   ]
  },
  {
   "cell_type": "markdown",
   "metadata": {
    "id": "LqCHVFbhtwPx"
   },
   "source": [
    "## 課題3\n",
    "\n",
    "Observerを継承させてCountdownClockを作る。ConsoleClockとほぼ同じだが、いくつか相違点がある。\n",
    "\n",
    "・残り時刻を管理するため、カウントダウンのカウントsecondsを引数に持つ\n",
    "\n",
    "・updateメソッド内でカウントダウンを行う\n",
    "\n",
    "ここで、問題の指定通りclocktimerを変更せずtimer.tick()と書いているが、これは内部の変数を何も参照していないので、単にnotifyからCountdownClockのupdateメソッドを呼びたいだけである。"
   ]
  },
  {
   "cell_type": "code",
   "execution_count": 88,
   "metadata": {},
   "outputs": [],
   "source": [
    "class CountdownClock(Observer):\n",
    "    \"\"\"\n",
    "    Doctest:\n",
    "    >>> timer = ClockTimer(0, 0, 0) \n",
    "    >>> cd = CountdownClock(timer, 3) \n",
    "    >>> timer.tick() \n",
    "    3\n",
    "    >>> timer.tick()\n",
    "    2\n",
    "    >>> timer.tick()\n",
    "    1\n",
    "    >>> timer.tick()\n",
    "    !!!\n",
    "    \"\"\"\n",
    "    def __init__(self, subject, seconds):\n",
    "        super().__init__()\n",
    "        self.subject = subject\n",
    "        self.seconds = seconds\n",
    "        self.subject.attach(self)\n",
    "\n",
    "    def update(self):\n",
    "\n",
    "        if self.seconds > 0:\n",
    "            self.seconds -= 1\n",
    "            print(self.seconds + 1) \n",
    "        else:\n",
    "            print(\"!!!\")\n",
    "            self.subject.detach(self)\n",
    "        "
   ]
  },
  {
   "cell_type": "code",
   "execution_count": 89,
   "metadata": {},
   "outputs": [
    {
     "name": "stdout",
     "output_type": "stream",
     "text": [
      "3\n",
      "2\n",
      "1\n",
      "!!!\n"
     ]
    }
   ],
   "source": [
    "# テストケース\n",
    "timer=ClockTimer(0,0 ,0)\n",
    "cd = CountdownClock(timer, 3) \n",
    "timer.tick()\n",
    "timer.tick()\n",
    "timer.tick()\n",
    "timer.tick() "
   ]
  },
  {
   "cell_type": "markdown",
   "metadata": {},
   "source": [
    "課題1～3までのDoctestの結果をまとめて以下に示す。"
   ]
  },
  {
   "cell_type": "code",
   "execution_count": 90,
   "metadata": {},
   "outputs": [
    {
     "data": {
      "text/plain": [
       "TestResults(failed=0, attempted=15)"
      ]
     },
     "execution_count": 90,
     "metadata": {},
     "output_type": "execute_result"
    }
   ],
   "source": [
    "doctest.testmod()"
   ]
  },
  {
   "cell_type": "code",
   "execution_count": 91,
   "metadata": {},
   "outputs": [
    {
     "name": "stdout",
     "output_type": "stream",
     "text": [
      "Trying:\n",
      "    account = BankAccount(1000, '0000')\n",
      "Expecting nothing\n",
      "ok\n",
      "Trying:\n",
      "    account.withdraw(500, '0000')\n",
      "Expecting:\n",
      "    500\n",
      "ok\n",
      "Trying:\n",
      "    account.withdraw(600, '0000')\n",
      "Expecting:\n",
      "    'Insufficient funds'\n",
      "ok\n",
      "Trying:\n",
      "    account.withdraw(100, '1111')\n",
      "Expecting:\n",
      "    'Incorrect password'\n",
      "ok\n",
      "Trying:\n",
      "    clock_timer = ClockTimer(23, 59, 58)\n",
      "Expecting nothing\n",
      "ok\n",
      "Trying:\n",
      "    observer1 = ConsoleClock(clock_timer)\n",
      "Expecting nothing\n",
      "ok\n",
      "Trying:\n",
      "    observer2 = ConsoleClock(clock_timer)\n",
      "Expecting nothing\n",
      "ok\n",
      "Trying:\n",
      "    clock_timer.tick() \n",
      "Expecting:\n",
      "    23:59:59\n",
      "    23:59:59\n",
      "ok\n",
      "Trying:\n",
      "    clock_timer.tick() \n",
      "Expecting:\n",
      "    00:00:00\n",
      "    00:00:00\n",
      "ok\n",
      "Trying:\n",
      "    timer = ClockTimer(0, 0, 0) \n",
      "Expecting nothing\n",
      "ok\n",
      "Trying:\n",
      "    cd = CountdownClock(timer, 3) \n",
      "Expecting nothing\n",
      "ok\n",
      "Trying:\n",
      "    timer.tick() \n",
      "Expecting:\n",
      "    3\n",
      "ok\n",
      "Trying:\n",
      "    timer.tick()\n",
      "Expecting:\n",
      "    2\n",
      "ok\n",
      "Trying:\n",
      "    timer.tick()\n",
      "Expecting:\n",
      "    1\n",
      "ok\n",
      "Trying:\n",
      "    timer.tick()\n",
      "Expecting:\n",
      "    !!!\n",
      "ok\n",
      "19 items had no tests:\n",
      "    __main__\n",
      "    __main__.BankAccount\n",
      "    __main__.BankAccount.__init__\n",
      "    __main__.BankAccount.deposit\n",
      "    __main__.ClockTimer.__init__\n",
      "    __main__.ClockTimer.tick\n",
      "    __main__.ConsoleClock\n",
      "    __main__.ConsoleClock.__init__\n",
      "    __main__.ConsoleClock.clock_to_string\n",
      "    __main__.ConsoleClock.update\n",
      "    __main__.CountdownClock.__init__\n",
      "    __main__.CountdownClock.update\n",
      "    __main__.Observer\n",
      "    __main__.Observer.update\n",
      "    __main__.Subject\n",
      "    __main__.Subject.__init__\n",
      "    __main__.Subject.attach\n",
      "    __main__.Subject.detach\n",
      "    __main__.Subject.notify\n",
      "3 items passed all tests:\n",
      "   4 tests in __main__.BankAccount.withdraw\n",
      "   5 tests in __main__.ClockTimer\n",
      "   6 tests in __main__.CountdownClock\n",
      "15 tests in 22 items.\n",
      "15 passed and 0 failed.\n",
      "Test passed.\n"
     ]
    },
    {
     "data": {
      "text/plain": [
       "TestResults(failed=0, attempted=15)"
      ]
     },
     "execution_count": 91,
     "metadata": {},
     "output_type": "execute_result"
    }
   ],
   "source": [
    "import doctest\n",
    "doctest.testmod(verbose=True)"
   ]
  }
 ],
 "metadata": {
  "colab": {
   "provenance": []
  },
  "kernelspec": {
   "display_name": "Python 3 (ipykernel)",
   "language": "python",
   "name": "python3"
  },
  "language_info": {
   "codemirror_mode": {
    "name": "ipython",
    "version": 3
   },
   "file_extension": ".py",
   "mimetype": "text/x-python",
   "name": "python",
   "nbconvert_exporter": "python",
   "pygments_lexer": "ipython3",
   "version": "3.10.4"
  }
 },
 "nbformat": 4,
 "nbformat_minor": 1
}
