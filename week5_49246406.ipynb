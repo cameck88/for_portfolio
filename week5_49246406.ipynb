{
 "cells": [
  {
   "cell_type": "markdown",
   "metadata": {
    "id": "aVBGCDt1odf6"
   },
   "source": [
    "# 第5回課題"
   ]
  },
  {
   "cell_type": "markdown",
   "metadata": {
    "id": "ZqyjjElIodf8"
   },
   "source": [
    "## 課題1\n",
    "\n",
    "指定した値に辿り着くまで、二分的に値を絞り込んでいく。手続きとしては次のようになる。\n",
    "\n",
    "1.引数として受け取った範囲の真ん中の点をmとして、それをシグモイド関数に代入する\n",
    "\n",
    "2.出力された値と目標値の誤差がesplion（許容誤差）以内か判定する\n",
    "\n",
    "3.許容誤差内ならmを出力、そうでなければ[a, m]もしくは[m, b]の範囲でsigmoid_inverseを呼び出す\n",
    "\n",
    "4.1～3をmが出力されるまで繰り返す。\n",
    "\n",
    "\n",
    "\n"
   ]
  },
  {
   "cell_type": "code",
   "execution_count": 7,
   "metadata": {
    "id": "LtoVgBBjodf9"
   },
   "outputs": [],
   "source": [
    "import numpy as np\n",
    "epsilon=0.0001\n",
    "def sigmoid(x):\n",
    "    return 1 / (1 + np.exp(-x))\n",
    "\n",
    "def sigmoid_inverse(y, a, b):\n",
    "    m = (a + b) / 2.0\n",
    "\n",
    "    f_m = sigmoid(m)\n",
    "\n",
    "    if abs(f_m - y) < epsilon:\n",
    "        return m\n",
    "\n",
    "    elif f_m < y:\n",
    "        return sigmoid_inverse(y, m, b)\n",
    "\n",
    "    else:\n",
    "        return sigmoid_inverse(y, a, m)\n"
   ]
  },
  {
   "cell_type": "code",
   "execution_count": 8,
   "metadata": {
    "id": "NH7IXlfIsdgI"
   },
   "outputs": [],
   "source": [
    "# テストケース\n",
    "import pytest\n",
    "assert 2.1972 == pytest.approx(sigmoid_inverse(0.9, -10, 10), epsilon)"
   ]
  },
  {
   "cell_type": "markdown",
   "metadata": {
    "id": "NiXQHWA-odf9"
   },
   "source": [
    "## 課題2\n",
    "\n",
    "リストが昇順で整理されているため、半開区間内で二分探査をすることができる。整数xと等しい要素を発見する関数binary_searchの手続きは次の通りになる。\n",
    "\n",
    "1.l, rの中点mを計算する\n",
    "\n",
    "2.インデックスmの要素とxが等しい場合、それをreturnする\n",
    "\n",
    "3.インデックスmの要素とxが異なる場合、大小に応じて[m, r]もしくは[x, l]の範囲でbinary_searchを呼び出す\n",
    "\n",
    "4.1～3を要素が見つかるまで行う。l >= rとなった場合、そのリストには要素が存在しないため、エラーとして-1を返す。\n"
   ]
  },
  {
   "cell_type": "code",
   "execution_count": 9,
   "metadata": {
    "id": "KWChzzQJodf-"
   },
   "outputs": [],
   "source": [
    "def binary_search(a, x, l, r):\n",
    "\n",
    "    if l >= r:\n",
    "        return -1\n",
    "\n",
    "    mid = (l + r) // 2\n",
    "\n",
    "    if a[mid] == x:\n",
    "        return mid\n",
    "\n",
    "    elif a[mid] > x:\n",
    "        return binary_search(a, x, l, mid)\n",
    "\n",
    "    else:\n",
    "        return binary_search(a, x, mid + 1, r)"
   ]
  },
  {
   "cell_type": "code",
   "execution_count": 10,
   "metadata": {
    "colab": {
     "base_uri": "https://localhost:8080/"
    },
    "id": "zQUxxLApudnI",
    "outputId": "b990a186-9487-4df2-bf43-abbd65276712"
   },
   "outputs": [
    {
     "name": "stdout",
     "output_type": "stream",
     "text": [
      "0 1 2 3 -1\n"
     ]
    },
    {
     "data": {
      "text/plain": [
       "1"
      ]
     },
     "execution_count": 10,
     "metadata": {},
     "output_type": "execute_result"
    }
   ],
   "source": [
    "# テストケース\n",
    "a=[1,3,5,7]\n",
    "print(binary_search(a, 1, 0, len(a)), binary_search(a, 3, 0, len(a)),\n",
    "       binary_search(a, 5, 0, len(a)), binary_search(a, 7, 0, len(a)),\n",
    "      binary_search(a, 2, 0, len(a)))\n",
    "\n",
    "b=[0,1,10,100,1000]\n",
    "binary_search(b, 1, 0, len(a))"
   ]
  },
  {
   "cell_type": "markdown",
   "metadata": {
    "id": "NGWilXzcvynK"
   },
   "source": [
    "## 課題3\n",
    "\n",
    "コッホ曲線の作り方は次の通りである。（参照：https://judge.u-aizu.ac.jp/onlinejudge/description.jsp?id=ALDS1_5_C&lang=jp　）\n",
    "\n",
    "1.与えられた線分 (p1,p2)を 3 等分する。\n",
    "\n",
    "2.線分を 3等分する 2 点 s,tを頂点とする正三角形 (s,u,t)を作成する。\n",
    "\n",
    "3.線分 (p1,s)、線分 (s,u)、線分 (u,t)、線分 (t,p2)に対して再帰的に同じ操作を繰り返す。\n",
    "\n",
    "この操作を再帰的に実行する関数に必要なのは、1と2の機能である。\n",
    "\n",
    "1の機能については難しくないのでコメントは割愛する。\n",
    "\n",
    "2の機能については、回転行列を使って線分tsをsを中心に60°回転させた座標を取得すればよい。\n",
    "\n",
    "\n"
   ]
  },
  {
   "cell_type": "code",
   "execution_count": 11,
   "metadata": {
    "id": "L6MLZ9HgqEne"
   },
   "outputs": [],
   "source": [
    "import numpy as np\n",
    "\n",
    "def koch(p1, p2, n):\n",
    "    if n == 0:\n",
    "\n",
    "        return [p1, p2]\n",
    "\n",
    "    x0, y0 = p1\n",
    "    x1, y1 = p2\n",
    "    s = ((2 * x0 + x1) / 3, (2 * y0 + y1) / 3)\n",
    "    t = ((x0 + 2 * x1) / 3, (y0 + 2 * y1) / 3)\n",
    "\n",
    "    ux = (t[0] - s[0]) * np.cos(np.pi / 3) - (t[1] - s[1]) * np.sin(np.pi / 3) + s[0]\n",
    "    uy = (t[0] - s[0]) * np.sin(np.pi / 3) + (t[1] - s[1]) * np.cos(np.pi / 3) + s[1]\n",
    "    u = (ux, uy)\n",
    "\n",
    "    k1 = koch(p1, s, n-1)\n",
    "    k2 = koch(s, u, n-1)\n",
    "    k3 = koch(u, t, n-1)\n",
    "    k4 = koch(t, p2, n-1)\n",
    "\n",
    "    result = k1[:-1] + k2[:-1] + k3[:-1] + k4\n",
    "    return result\n",
    "\n",
    "import matplotlib.pyplot as plt\n",
    "import numpy as np\n",
    "\n",
    "def plot_koch(a):\n",
    "\n",
    "    fig = plt.figure()\n",
    "    ax = fig.add_subplot(1,1,1)\n",
    "\n",
    "    a_ = np.array(a)\n",
    "    xlist = a_[:, 0]\n",
    "    ylist = a_[:, 1]\n",
    "\n",
    "    ax.plot(xlist, ylist)\n",
    "    ax.set_title('koch curve')"
   ]
  },
  {
   "cell_type": "code",
   "execution_count": 12,
   "metadata": {
    "colab": {
     "base_uri": "https://localhost:8080/",
     "height": 452
    },
    "id": "Dw4df6uNvynN",
    "outputId": "096f0ab3-4353-4950-cd8d-84dff306be81"
   },
   "outputs": [
    {
     "data": {
      "image/png": "[encoded data removed]",
      "text/plain": [
       "<Figure size 640x480 with 1 Axes>"
      ]
     },
     "metadata": {},
     "output_type": "display_data"
    }
   ],
   "source": [
    "# テストケース\n",
    "p1 = (0, 0)\n",
    "p2 = (100, 0)\n",
    "n = 3\n",
    "points = koch(p1, p2, n)\n",
    "plot_koch(points)"
   ]
  },
  {
   "cell_type": "markdown",
   "metadata": {
    "id": "3bH797KNyYUR"
   },
   "source": [
    "## 課題4\n",
    "\n",
    "マージソート（昇順）の手続きは次の通りである。\n",
    "\n",
    "1.与えられた配列が大きさ1になるまで分割する\n",
    "\n",
    "2.隣どうしの配列でペアを作り、左から順に値を取り出し、大小比較して昇順に別のリストへ代入する。\n",
    "\n",
    "3.1を行ったのち、2をリストが再構築されるまで再帰的に行う。\n",
    "\n",
    "実装では、\n",
    "\n",
    "merge関数で分割された二つのリストを大小比較＆統合し、mergesort関数内で与えられたリストを再帰的にサイズ1まで分割したあと、順にmerge関数に放り込むことで望んだ結果が得られる。\n",
    "\n",
    "\n",
    "\n",
    "\n",
    "\n"
   ]
  },
  {
   "cell_type": "code",
   "execution_count": 13,
   "metadata": {
    "id": "pAhkx2VCyYUT"
   },
   "outputs": [],
   "source": [
    "def mergesort(a):\n",
    "    if len(a) <= 1:\n",
    "        return a\n",
    "\n",
    "    mid = len(a) // 2\n",
    "    left = mergesort(a[:mid])\n",
    "    right = mergesort(a[mid:])\n",
    "\n",
    "    return merge(left, right)\n",
    "\n",
    "def merge(left, right):\n",
    "    sorted_array = []\n",
    "    i = j = 0\n",
    "\n",
    "    while i < len(left) and j < len(right):\n",
    "        if left[i] < right[j]:\n",
    "            sorted_array.append(left[i])#この時点で、sorted_arrayの中身は処理済みの配列値がソートされて保存されている\n",
    "            i += 1\n",
    "        else:\n",
    "            sorted_array.append(right[j])\n",
    "            j += 1\n",
    "\n",
    "    sorted_array.extend(left[i:])\n",
    "    sorted_array.extend(right[j:])\n",
    "    return sorted_array\n"
   ]
  },
  {
   "cell_type": "code",
   "execution_count": 14,
   "metadata": {
    "colab": {
     "base_uri": "https://localhost:8080/"
    },
    "id": "hwAXSg8Ckvly",
    "outputId": "b960ceb0-8358-4dbb-baa3-0c95e52666a8"
   },
   "outputs": [
    {
     "data": {
      "text/plain": [
       "[1, 2, 3, 4, 5, 6, 7, 8, 9]"
      ]
     },
     "execution_count": 14,
     "metadata": {},
     "output_type": "execute_result"
    }
   ],
   "source": [
    "# テストケース\n",
    "mergesort([8,3,4,1,5,9,6,7,2])"
   ]
  },
  {
   "cell_type": "markdown",
   "metadata": {
    "id": "LqCHVFbhtwPx"
   },
   "source": [
    "## 課題5\n",
    "\n",
    "マージソートの分割と比較の考え方を踏襲して、次のように実装することができる。\n",
    "\n",
    "1.マージソートの手順で配列を分解・比較する。\n",
    "\n",
    "2.比較の際、左部分配列の現在の要素が右部分配列の現在の要素より小さいか等しい場合、それを結果の配列に追加する。\n",
    "\n",
    "左部分配列の現在の要素が右部分配列の現在の要素より大きい場合、この要素は右部分配列の全ての未処理の要素と逆順ペアを形成する。そのため、右配列部分の未処理の要素数を数え上げる。\n",
    "\n",
    "3.2の手続きをソートが終わるまで再帰的に行う。"
   ]
  },
  {
   "cell_type": "code",
   "execution_count": 15,
   "metadata": {
    "id": "QTqG_gz1twPy"
   },
   "outputs": [],
   "source": [
    "def mergesort_and_count(a):\n",
    "    if len(a) <= 1:\n",
    "        return a, 0\n",
    "\n",
    "    mid = len(a) // 2\n",
    "    left, left_inv_count = mergesort_and_count(a[:mid])\n",
    "    right, right_inv_count = mergesort_and_count(a[mid:])\n",
    "\n",
    "    sorted_array, merge_inv_count = merge_and_count(left, right)\n",
    "\n",
    "    total_inv_count = left_inv_count + right_inv_count + merge_inv_count\n",
    "\n",
    "    return sorted_array, total_inv_count\n",
    "\n",
    "def merge_and_count(left, right):\n",
    "    sorted_array = []\n",
    "    i = j = 0\n",
    "    inv_count = 0\n",
    "\n",
    "    while i < len(left) and j < len(right):\n",
    "        if left[i] <= right[j]:\n",
    "            sorted_array.append(left[i])#この時点で、sorted_arrayの中身は処理済みの配列値がソートされて保存されている\n",
    "            i += 1\n",
    "        else:\n",
    "            sorted_array.append(right[j])\n",
    "            inv_count += len(left) - i\n",
    "            j += 1\n",
    "\n",
    "    sorted_array.extend(left[i:])\n",
    "    sorted_array.extend(right[j:])\n",
    "\n",
    "    return sorted_array, inv_count"
   ]
  },
  {
   "cell_type": "code",
   "execution_count": 16,
   "metadata": {
    "colab": {
     "base_uri": "https://localhost:8080/"
    },
    "id": "ErxPE4stvUtZ",
    "outputId": "fe202611-fb6b-4302-e2cc-56169553d9a2"
   },
   "outputs": [
    {
     "name": "stdout",
     "output_type": "stream",
     "text": [
      "Inversion count: 6\n"
     ]
    }
   ],
   "source": [
    "# テストケース\n",
    "a = [7, 3, 1, 2, 5, 7]\n",
    "sorted_a, inv_count = mergesort_and_count(a)\n",
    "print(\"Inversion count:\", inv_count)"
   ]
  },
  {
   "cell_type": "markdown",
   "metadata": {
    "id": "HV5f3KgDMuHM"
   },
   "source": [
    "## 課題6\n",
    "\n",
    "ヒントを利用して実装する。\n",
    "\n",
    "1.現在のトラックに積んだ重さ (初期値 0) とトラック台数 (初期値 1) を表す変数を作成する\n",
    "\n",
    "2.各荷物について，現在のトラックに積んで最大積載量を超えないならそのまま積む (現在のトラッ\n",
    "クに積んだ重さを増やす)/そうでなければ新しいトラックに積む (トラックの台数を増やして，現\n",
    "在のトラックに積んだ重さをその荷物に設定)\n",
    "\n",
    "3.最後に台数を K と比較し、台数がKを超えたら失敗とする\n",
    "\n",
    "4.1～3の処理を、最大積載量を変化させながら繰り返し行う。最大積載量の初期値は色々とれるが、ここでは荷物の中で最も重い物(l)と、荷物の重さの合計(h)の中央値とする。\n",
    "\n",
    "その積載量でOK関数がTrueを返した場合、より小さい積載量で再度トライする。積載量の減らし方には二分探索を使う。[l, h)の範囲を、h=(l+h)//2として絞り込む。\n",
    "\n",
    "Falseを返した場合、積載量を増やす必要がある。つまり[l, h)のlを1づつ増やす。\n",
    "\n",
    "これらの処理を、l < hとなるまで続ける。そのときの積載量が問題の解となる。\n",
    "\n"
   ]
  },
  {
   "cell_type": "code",
   "execution_count": 17,
   "metadata": {
    "id": "CVhaVYL2MuHU"
   },
   "outputs": [],
   "source": [
    "def min_sufficient_load(w, k):\n",
    "    def ok(P):\n",
    "        current_load = 0\n",
    "        trucks_used = 1\n",
    "        for weight in w:\n",
    "            if current_load + weight <= P:\n",
    "                current_load += weight\n",
    "            else:\n",
    "                trucks_used += 1\n",
    "                current_load = weight\n",
    "                if trucks_used > k:\n",
    "                    return False\n",
    "        return True\n",
    "\n",
    "    l, h = max(w), sum(w)\n",
    "\n",
    "    while l < h:\n",
    "        mid = (l + h) // 2\n",
    "        if ok(mid):\n",
    "            h = mid#この時点で、hは試された中で最小の積載量\n",
    "        else:\n",
    "            l = mid + 1\n",
    "\n",
    "    return h"
   ]
  },
  {
   "cell_type": "code",
   "execution_count": 18,
   "metadata": {
    "colab": {
     "base_uri": "https://localhost:8080/"
    },
    "id": "Wbx0jGEbMuHV",
    "outputId": "464f29b3-e9ff-41dc-91f2-d47c3012b1cf"
   },
   "outputs": [
    {
     "name": "stdout",
     "output_type": "stream",
     "text": [
      "24\n"
     ]
    }
   ],
   "source": [
    "# テストケース\n",
    "w = [5, 3, 8, 1, 7, 3, 8, 9]\n",
    "k = 2\n",
    "print(min_sufficient_load(w, k))"
   ]
  }
 ],
 "metadata": {
  "colab": {
   "provenance": []
  },
  "kernelspec": {
   "display_name": "Python 3 (ipykernel)",
   "language": "python",
   "name": "python3"
  },
  "language_info": {
   "codemirror_mode": {
    "name": "ipython",
    "version": 3
   },
   "file_extension": ".py",
   "mimetype": "text/x-python",
   "name": "python",
   "nbconvert_exporter": "python",
   "pygments_lexer": "ipython3",
   "version": "3.10.4"
  }
 },
 "nbformat": 4,
 "nbformat_minor": 1
}
